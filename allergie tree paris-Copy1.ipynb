{
 "cells": [
  {
   "cell_type": "code",
   "execution_count": null,
   "id": "2307f299",
   "metadata": {},
   "outputs": [],
   "source": [
    "import pandas as pd\n",
    "import pylab as pl\n",
    "import seaborn as sn\n",
    "import plotly.express as px\n",
    "pl.style.use('bmh')\n",
    "pd.options.mode.chained_assignment = None\n",
    "\n",
    "T=pd.read_csv(r'C:\\Users\\julia\\Documents\\python36\\datasource\\data\\arbres_paris.csv', sep=';', encoding='latin1')\n",
    "T.head()"
   ]
  },
  {
   "cell_type": "code",
   "execution_count": null,
   "id": "9d2669fb",
   "metadata": {},
   "outputs": [],
   "source": [
    "fig = px.density_mapbox(\n",
    "data_frame=T,\n",
    "lat='LAT', lon='LON',\n",
    "radius=1,\n",
    "color_continuous_scale=[(0, 'green'), (0.5, 'red'), (1, 'black')],\n",
    "opacity=0.8,\n",
    "hover_name='NOM'\n",
    ")\n",
    "\n",
    "fig.update_layout(\n",
    "mapbox={\n",
    "'style': 'stamen-terrain',\n",
    "'center': {'lat': T['LAT'].mean(), 'lon': T['LON'].mean()},\n",
    "'zoom': 11\n",
    "},\n",
    "showlegend=False,\n",
    "coloraxis_showscale=False\n",
    ")\n",
    "\n",
    "fig.show()"
   ]
  },
  {
   "cell_type": "code",
   "execution_count": null,
   "id": "6a8faebc",
   "metadata": {},
   "outputs": [],
   "source": [
    "L = ['Frêne', 'Olivier', 'Bouleau', 'Noisetier de Byzance', 'Charme', 'Cyprès', 'Marier', 'Platane', 'Aulne']"
   ]
  },
  {
   "cell_type": "code",
   "execution_count": null,
   "id": "41d1838e",
   "metadata": {},
   "outputs": [],
   "source": [
    "T.query('DOMANIALITE == \"Alignement\"')['NOM'].value_counts()"
   ]
  },
  {
   "cell_type": "code",
   "execution_count": null,
   "id": "2212e854",
   "metadata": {},
   "outputs": [],
   "source": [
    "def allergisant(nom):\n",
    "    if nom in L:\n",
    "        return 1\n",
    "    else:\n",
    "        return 0"
   ]
  },
  {
   "cell_type": "code",
   "execution_count": null,
   "id": "49967e8f",
   "metadata": {},
   "outputs": [],
   "source": [
    "T['Allergisant'] = T['NOM'].apply(allergisant)\n",
    "T.head()"
   ]
  },
  {
   "cell_type": "code",
   "execution_count": null,
   "id": "8fe8384a",
   "metadata": {},
   "outputs": [],
   "source": [
    "T['Allergisant'] .mean()"
   ]
  },
  {
   "cell_type": "code",
   "execution_count": null,
   "id": "f006adfb",
   "metadata": {},
   "outputs": [],
   "source": [
    "T.query('DOMANIALITE == \"Alignement\"').mean()"
   ]
  },
  {
   "cell_type": "markdown",
   "id": "75a4fd6e",
   "metadata": {},
   "source": [
    "# Tree Density"
   ]
  },
  {
   "cell_type": "code",
   "execution_count": null,
   "id": "22a538e7",
   "metadata": {},
   "outputs": [],
   "source": [
    "import geopandas as gp\n",
    "\n",
    "J=gp.read_file(r'C:\\Users\\julia\\Documents\\python36\\datasource\\data\\Arr_paris.geojson')\n",
    "J=J.set_index('arrondissement')\n",
    "J.head()"
   ]
  },
  {
   "cell_type": "code",
   "execution_count": null,
   "id": "addcdc0e",
   "metadata": {},
   "outputs": [],
   "source": [
    "N=T.groupby('ARRONDISSEMENT')['NOM'].count()\n",
    "N"
   ]
  },
  {
   "cell_type": "code",
   "execution_count": null,
   "id": "415bc348",
   "metadata": {},
   "outputs": [],
   "source": [
    "J['Densité']=N / J['superficie_km2']\n",
    "J.head()"
   ]
  },
  {
   "cell_type": "code",
   "execution_count": null,
   "id": "dbdccbb3",
   "metadata": {},
   "outputs": [],
   "source": [
    "J=J.reset_index()\n",
    "J.head()"
   ]
  },
  {
   "cell_type": "code",
   "execution_count": null,
   "id": "4e4b3e95",
   "metadata": {},
   "outputs": [],
   "source": [
    "fig1 = px.choropleth(\n",
    "    data_frame=J,\n",
    "    locations='arrondissement',\n",
    "    geojson=J,\n",
    "    featureidkey='properties.arrondissement',\n",
    "    color='Densité',\n",
    "    color_continuous_scale=[(0, 'black'), (0.5, 'orange'), (1, 'green')]\n",
    ")\n",
    "\n",
    "\n",
    "fig1.update_layout(\n",
    "    height=400,\n",
    "    width=900,\n",
    "    coloraxis={'colorbar': {'len': 0.6, 'x': 0.8, 'y': 0.7, 'title': '<b>Arbres / km2 </b>'}},\n",
    "    title={'text': \"<b>Densité des arbres Paris</bsn>\", 'font': {'family': 'comic', 'color': 'black', 'size': 15}, 'x': 0.95, 'y': 0.1},\n",
    "    showlegend=False,\n",
    "    margin={'r': 0, 't': 0, 'l': 0, 'b': 0}\n",
    ")\n",
    "\n",
    "fig1.update_geos(fitbounds='locations', projection={'type': 'transverse mercator'})\n",
    "\n",
    "fig1.add_scattergeo(\n",
    "    lat=J['geometry'].centroid.y,\n",
    "    lon=J['geometry'].centroid.x - 0.005,\n",
    "    mode='markers+text',\n",
    "    marker={'symbol': 'square', 'size': 12, 'opacity': 1, 'color': 'linen'},\n",
    "    text=J['arrondissement'].str.replace('PARIS', ''),\n",
    "    textfont={'color': 'black', 'family': 'Arial', 'size': 14},\n",
    "    textposition='middle center',\n",
    "    showlegend=False\n",
    ")\n",
    "\n",
    "\n",
    "fig1.show()"
   ]
  },
  {
   "cell_type": "markdown",
   "id": "72f21a94",
   "metadata": {},
   "source": [
    "# Allergic tree"
   ]
  },
  {
   "cell_type": "code",
   "execution_count": null,
   "id": "94225acc",
   "metadata": {},
   "outputs": [],
   "source": [
    "J=J.set_index('arrondissement')\n",
    "J.head()"
   ]
  },
  {
   "cell_type": "code",
   "execution_count": null,
   "id": "89422835",
   "metadata": {},
   "outputs": [],
   "source": [
    "A=T.groupby('ARRONDISSEMENT')['Allergisant'].sum()"
   ]
  },
  {
   "cell_type": "code",
   "execution_count": null,
   "id": "03b19e2c",
   "metadata": {},
   "outputs": [],
   "source": [
    "J['Proportion']=A/N\n",
    "J.head()"
   ]
  },
  {
   "cell_type": "code",
   "execution_count": null,
   "id": "e2f83e73",
   "metadata": {},
   "outputs": [],
   "source": [
    "J=J.reset_index()"
   ]
  },
  {
   "cell_type": "code",
   "execution_count": null,
   "id": "39d30a11",
   "metadata": {},
   "outputs": [],
   "source": [
    "J['%_A1']=[str(x*100)[:2] + '%' for x in J['Proportion']]\n",
    "J.head()"
   ]
  },
  {
   "cell_type": "markdown",
   "id": "4e758162",
   "metadata": {},
   "source": [
    "# Density / Proportion"
   ]
  },
  {
   "cell_type": "code",
   "execution_count": null,
   "id": "bb548c60",
   "metadata": {},
   "outputs": [],
   "source": [
    "S=J.query('Proportion>0.273')"
   ]
  },
  {
   "cell_type": "code",
   "execution_count": null,
   "id": "fe68194d",
   "metadata": {},
   "outputs": [],
   "source": [
    "S.head()"
   ]
  },
  {
   "cell_type": "code",
   "execution_count": null,
   "id": "6b6028f9",
   "metadata": {},
   "outputs": [],
   "source": [
    "\n",
    "fig1.add_scattergeo(\n",
    "    lat=S['geometry'].centroid.y - 0.002,\n",
    "    lon=S['geometry'].centroid.x + 0.005,\n",
    "    mode='markers+text',\n",
    "    marker={'size': 1},\n",
    "    text=S['%_A1'],\n",
    "    textfont={'color': 'red', 'size': 14, 'family': 'Arial Black'},\n",
    "    textposition='middle center'\n",
    ")\n",
    "\n",
    "# update the layout to add a title\n",
    "fig1.update_layout(\n",
    "    title={'text': \"<b>Pourcentages d'arbres allergisants <br> par arrondissement</b>\"}\n",
    ")"
   ]
  },
  {
   "cell_type": "code",
   "execution_count": null,
   "id": "38eec83b",
   "metadata": {},
   "outputs": [],
   "source": [
    "L=J.query('Proportion<=0.273')"
   ]
  },
  {
   "cell_type": "code",
   "execution_count": null,
   "id": "9008619c",
   "metadata": {},
   "outputs": [],
   "source": [
    "L.head()"
   ]
  },
  {
   "cell_type": "code",
   "execution_count": null,
   "id": "c25116f7",
   "metadata": {},
   "outputs": [],
   "source": [
    "fig1.add_scattergeo(\n",
    "    lat=L['geometry'].centroid.y - 0.002,\n",
    "    lon=L['geometry'].centroid.x + 0.005,\n",
    "    mode='markers+text',\n",
    "    marker={'size': 1},\n",
    "    text=L['%_A1'],\n",
    "    textfont={'color': 'red', 'size': 14, 'family': 'Arial Black'},\n",
    "    textposition='middle center'\n",
    ")\n",
    "\n",
    "fig1.update_layout(\n",
    "    title={'text': \"<b>Pourcentages d'arbres allergisants <br> par arrondissement </b>\", 'font': {'family': 'comic', 'color': 'black', 'size': 15}, 'x': 0.95, 'y': 0.05}\n",
    ")\n",
    "\n",
    "fig1.show()"
   ]
  },
  {
   "cell_type": "code",
   "execution_count": null,
   "id": "e032d131",
   "metadata": {},
   "outputs": [],
   "source": [
    "fig2 = px.choropleth(\n",
    "    data_frame=J,\n",
    "    locations='arrondissement',\n",
    "    geojson=J,\n",
    "    featureidkey='properties.arrondissement',\n",
    "    color='Densité',\n",
    "    color_continuous_scale=[(0, 'black'), (0.5, 'orange'), (1, 'green')]\n",
    ")\n",
    "\n",
    "\n",
    "fig2.update_layout(\n",
    "    height=400,\n",
    "    width=900,\n",
    "    coloraxis={'colorbar': {'len': 0.6, 'x': 0.8, 'y': 0.7, 'title': '<b>Arbres / km2 </b>'}},\n",
    "    title={'text': \"<b>Densité des arbres Paris</bsn>\", 'font': {'family': 'comic', 'color': 'black', 'size': 15}, 'x': 0.95, 'y': 0.1},\n",
    "    showlegend=False,\n",
    "    margin={'r': 0, 't': 0, 'l': 0, 'b': 0}\n",
    ")\n",
    "\n",
    "fig2.update_geos(fitbounds='locations', projection={'type': 'transverse mercator'})\n",
    "\n",
    "fig2.add_scattergeo(\n",
    "    lat=J['geometry'].centroid.y,\n",
    "    lon=J['geometry'].centroid.x - 0.005,\n",
    "    mode='markers+text',\n",
    "    marker={'symbol': 'square', 'size': 12, 'opacity': 1, 'color': 'linen'},\n",
    "    text=J['arrondissement'].str.replace('PARIS', ''),\n",
    "    textfont={'color': 'black', 'family': 'Arial', 'size': 14},\n",
    "    textposition='middle center',\n",
    "    showlegend=False\n",
    ")\n",
    "\n",
    "\n",
    "\n",
    "fig2.add_scattergeo(\n",
    "    lat=L['geometry'].centroid.y - 0.002,\n",
    "    lon=L['geometry'].centroid.x + 0.005,\n",
    "    mode='markers+text',\n",
    "    marker={'size': 1},\n",
    "    text=L['%_A1'],\n",
    "    textfont={'color': 'red', 'size': 14, 'family': 'Arial Black'},\n",
    "    textposition='middle center'\n",
    ")\n",
    "\n",
    "# update the layout to add a title\n",
    "fig2.update_layout(\n",
    "    title={'text': \"<b>Pourcentages d'arbres allergisants <br> par arrondissement</b>\"}\n",
    ")"
   ]
  },
  {
   "cell_type": "code",
   "execution_count": null,
   "id": "3f4e5eac",
   "metadata": {},
   "outputs": [],
   "source": []
  }
 ],
 "metadata": {
  "kernelspec": {
   "display_name": "Python 3 (ipykernel)",
   "language": "python",
   "name": "python3"
  },
  "language_info": {
   "codemirror_mode": {
    "name": "ipython",
    "version": 3
   },
   "file_extension": ".py",
   "mimetype": "text/x-python",
   "name": "python",
   "nbconvert_exporter": "python",
   "pygments_lexer": "ipython3",
   "version": "3.9.16"
  }
 },
 "nbformat": 4,
 "nbformat_minor": 5
}
